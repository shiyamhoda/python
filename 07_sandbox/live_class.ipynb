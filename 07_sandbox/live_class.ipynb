{
 "cells": [
  {
   "cell_type": "markdown",
   "metadata": {},
   "source": [
    "In this notebook I will be going through the live examples shown in the class "
   ]
  },
  {
   "cell_type": "code",
   "execution_count": null,
   "metadata": {},
   "outputs": [],
   "source": [
    "'''\n",
    "This is a long test \n",
    "comment \n",
    "having uliplt line \n",
    "where we can write details about the code \n",
    "\n",
    "'''"
   ]
  },
  {
   "cell_type": "code",
   "execution_count": null,
   "metadata": {},
   "outputs": [],
   "source": [
    "'''Yes, in Jupyter Notebook, you can switch between tabs (also known as cells)\n",
    " using keyboard shortcuts. The default shortcuts may vary slightly depending on your browser an\n",
    " d operating system, but typically you can use:\n",
    "'''"
   ]
  },
  {
   "cell_type": "code",
   "execution_count": null,
   "metadata": {},
   "outputs": [],
   "source": [
    "'''but if you write any code in \n",
    "the same cell this \n",
    "will be treated as comment '''\n",
    "print('Comment')"
   ]
  },
  {
   "cell_type": "markdown",
   "metadata": {},
   "source": [
    "'''Yes, in Jupyter Notebook, you can switch between tabs (also known as cells) using keyboard shortcuts. The default shortcuts may vary slightly depending on your browser and operating system, but typically you can use:'''"
   ]
  },
  {
   "cell_type": "code",
   "execution_count": null,
   "metadata": {},
   "outputs": [],
   "source": [
    "int(float(\"56.7\"))\n"
   ]
  },
  {
   "cell_type": "code",
   "execution_count": null,
   "metadata": {},
   "outputs": [],
   "source": [
    "print(type(2*1.5))"
   ]
  },
  {
   "cell_type": "markdown",
   "metadata": {},
   "source": [
    "# defining a function\n",
    "def function_name(parameter):\n",
    "    '''doctring defining what the functtion does'''\n",
    "    body\n",
    "    return\n",
    "\n",
    "using a function \n",
    "function_name(arguments)"
   ]
  },
  {
   "cell_type": "code",
   "execution_count": null,
   "metadata": {},
   "outputs": [],
   "source": [
    "hot = 22"
   ]
  },
  {
   "cell_type": "code",
   "execution_count": 32,
   "metadata": {},
   "outputs": [
    {
     "name": "stdout",
     "output_type": "stream",
     "text": [
      "Test Passes\n"
     ]
    }
   ],
   "source": [
    "def c_to_f(c):\n",
    "    '''This function takes an argumnet in\n",
    "      Degrees Celsius and returns the temperature in Fahrenhiet'''\n",
    "    f = 9/5*float(c) + 32\n",
    "\n",
    "    return f \n",
    "\n",
    "assert c_to_f(0) == 32.0\n",
    "#hot =  c_to_f(20)\n",
    "print(\"Test Passes\")"
   ]
  },
  {
   "cell_type": "code",
   "execution_count": null,
   "metadata": {},
   "outputs": [],
   "source": [
    "help(c_to_f)"
   ]
  },
  {
   "cell_type": "markdown",
   "metadata": {},
   "source": [
    "Can we use a function wich return a value e.g. our c_to_f function with assert "
   ]
  },
  {
   "cell_type": "code",
   "execution_count": 41,
   "metadata": {},
   "outputs": [
    {
     "data": {
      "text/plain": [
       "'This string \\t is Hoda\\'s string \\\\using \"escape\" \\n squence'"
      ]
     },
     "execution_count": 41,
     "metadata": {},
     "output_type": "execute_result"
    }
   ],
   "source": [
    "'This string \\t is Hoda\\'s string \\\\using \\\"escape\\\" \\n squence'"
   ]
  },
  {
   "cell_type": "code",
   "execution_count": 42,
   "metadata": {},
   "outputs": [
    {
     "data": {
      "text/plain": [
       "'This string is Hoda\\'s string \\\\using \"escape\" squence'"
      ]
     },
     "execution_count": 42,
     "metadata": {},
     "output_type": "execute_result"
    }
   ],
   "source": [
    "'This string is Hoda\\'s string \\\\using \\\"escape\\\" squence'"
   ]
  },
  {
   "cell_type": "code",
   "execution_count": 44,
   "metadata": {},
   "outputs": [
    {
     "data": {
      "text/plain": [
       "'This string is Hoda\\'s string using \"escape\" squence'"
      ]
     },
     "execution_count": 44,
     "metadata": {},
     "output_type": "execute_result"
    }
   ],
   "source": [
    "'This string is Hoda\\'s string using \\\"escape\\\" squence'"
   ]
  },
  {
   "cell_type": "code",
   "execution_count": 40,
   "metadata": {},
   "outputs": [
    {
     "name": "stdout",
     "output_type": "stream",
     "text": [
      "This string \t is Hoda's string \\using \"escape\" \n",
      " squence\n"
     ]
    }
   ],
   "source": [
    "print('This string \\t is Hoda\\'s string \\\\using \\\"escape\\\" \\n squence')"
   ]
  }
 ],
 "metadata": {
  "kernelspec": {
   "display_name": "dsi_participant",
   "language": "python",
   "name": "python3"
  },
  "language_info": {
   "codemirror_mode": {
    "name": "ipython",
    "version": 3
   },
   "file_extension": ".py",
   "mimetype": "text/x-python",
   "name": "python",
   "nbconvert_exporter": "python",
   "pygments_lexer": "ipython3",
   "version": "3.9.15"
  }
 },
 "nbformat": 4,
 "nbformat_minor": 2
}
