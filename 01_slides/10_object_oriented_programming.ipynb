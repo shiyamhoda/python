{
 "cells": [
  {
   "cell_type": "markdown",
   "metadata": {},
   "source": [
    "# Object Oriented Programming"
   ]
  },
  {
   "cell_type": "markdown",
   "metadata": {},
   "source": [
    "## Contents:\n",
    "1. Whay is Object Oriented Programming?\n",
    "2. Getters and Setters\n",
    "3. Validations"
   ]
  },
  {
   "cell_type": "markdown",
   "metadata": {},
   "source": [
    "# What is Object Oriented Programming?\n",
    "\n",
    "Object Oriented Programming, also known as OOP, is a programming paradigm that encapsulates real life entities around the concept of objects. It is widely used in programming languages such as Java, C++, and Python.\n",
    "\n",
    "For example, if we use a real life entity such as a car, how would we capture a single car?\n",
    "\n",
    "```python\n",
    "car_name = \"Taylor\"\n",
    "car_brand = \"Honda\"\n",
    "car_model = \"Civic\"\n",
    "car_vin = \"1VWAT7A32EC093779\"\n",
    "```\n",
    "\n",
    "Now, how can we capture this if we have two cars? Thousands? Or even millions? If we do it the same way above, it is highly inefficient. This is where OOP comes in handy! We can take a generic entity such as a car, and turn it into a blueprint known as a class. This \"blueprint\" will let us create as many cars as we want.\n",
    "\n",
    "```python\n",
    "class Car:\n",
    "  def __init__(self, name, brand, model, vin):\n",
    "    self.name = name\n",
    "    self.brand = brand\n",
    "    self.model = model\n",
    "    self.vin = vin\n",
    "```\n",
    "\n",
    "You can think of classes as a model, where it can be used many times and be populated with data."
   ]
  },
  {
   "cell_type": "code",
   "execution_count": null,
   "metadata": {},
   "outputs": [],
   "source": [
    "class Car:\n",
    "  def __init__(self, name, brand, model, vin):\n",
    "    self.name = name\n",
    "    self.brand = brand\n",
    "    self.model = model\n",
    "    self.vin = vin\n",
    "\n",
    "# Let's create a car object and print its VIN!\n",
    "car = Car(\"Taylor\", \"Honda\", \"Civic\", \"1VWAT7A32EC093779\")\n",
    "print(car.vin)"
   ]
  },
  {
   "cell_type": "markdown",
   "metadata": {},
   "source": [
    "## Class methods\n",
    "\n",
    "What else can a car do? It can honk! But then, how do we add that to our `car` class? We would just create a function under the class!"
   ]
  },
  {
   "cell_type": "code",
   "execution_count": null,
   "metadata": {},
   "outputs": [],
   "source": [
    "class Car:\n",
    "  def __init__(self, name, brand, model, vin):\n",
    "    self._name = name\n",
    "    self._brand = brand\n",
    "    self._model = model\n",
    "    self._vin = vin\n",
    "  \n",
    "  def honk(self):\n",
    "    print(\"beep beep\")\n",
    "\n",
    "car = Car(\"Taylor\", \"Honda\", \"Civic\", \"1VWAT7A32EC093779\")\n",
    "car.honk()"
   ]
  },
  {
   "cell_type": "markdown",
   "metadata": {},
   "source": [
    "## What is the self used for?\n",
    "\n",
    "By now, you may had noticed the `self` we declared as an argument in all our methods. The `self` is required for all class methods in Python, even if we do not require any arguments at all. It is used as a reference to the current instance of the class, and allow us to access variables within the class.\n",
    "\n",
    "For more information, check out [Programiz](https://www.programiz.com/article/python-self-why)."
   ]
  },
  {
   "cell_type": "markdown",
   "metadata": {},
   "source": [
    "# Exercise 1\n",
    "\n",
    "Create a class called `Person`, and create a Person object with the following attributes and methods:\n",
    "\n",
    "**Attributes**\n",
    "- first_name\n",
    "- middle_name\n",
    "- last_name\n",
    "- date_of_birth\n",
    "\n",
    "**Methods**\n",
    "- full_name --> Takes the first and last name and prints out the full name\n",
    "- age --> Takes today's date and the date of birth and subtracts it. The result should print out the age"
   ]
  },
  {
   "cell_type": "code",
   "execution_count": null,
   "metadata": {},
   "outputs": [],
   "source": [
    "# Your code goes here"
   ]
  },
  {
   "cell_type": "markdown",
   "metadata": {},
   "source": [
    "# Getters and Setters\n",
    "\n",
    "Currently, the attributes in our `car` object can be accessed publicly and directly. This is considered bad practice, because the purpose of OOP is to encapsulate everything into an object, and its direct attributes can only be accessed internally. If that's the case, how we can publicly access it? In many OOP languages, we use `getters` to access a private attribute from a class. While we use `setters` to set an attribute value for a class. This is known as data encapsulation.\n",
    "\n",
    "To keep an attribute or even method private, we would use `_` or `__` as the prefix. Unfortunately in Python, it doesn't enforced scoping, meaning it is only private technically.\n",
    "\n",
    "## Adding getters and setters"
   ]
  },
  {
   "cell_type": "code",
   "execution_count": null,
   "metadata": {},
   "outputs": [],
   "source": [
    "class Car:\n",
    "  def __init__(self, name, brand, model, vin):\n",
    "    self._name = name\n",
    "    self._brand = brand\n",
    "    self._model = model\n",
    "    self._vin = vin\n",
    "\n",
    "  def get_name(self):\n",
    "    return self._name\n",
    "  \n",
    "  def set_name(self, name):\n",
    "    self._name = name\n",
    "  \n",
    "  def get_brand(self):\n",
    "    return self._brand\n",
    "  \n",
    "  def set_brand(self, brand):\n",
    "    self._brand = brand\n",
    "  \n",
    "  def get_model(self):\n",
    "    return self._model\n",
    "\n",
    "  def set_model(self, model):\n",
    "    self._model = model\n",
    "  \n",
    "  def get_vin(self):\n",
    "    return self._vin\n",
    "  \n",
    "  def set_vin(self, vin):\n",
    "    self._vin = vin\n",
    "\n",
    "car = Car(\"Taylor\", \"Honda\", \"Civic\", \"1VWAT7A32EC093779\")\n",
    "car.get_vin()"
   ]
  },
  {
   "cell_type": "markdown",
   "metadata": {},
   "source": [
    "\n",
    "## Why are getters and setters important?\n",
    "\n",
    "We want to make sure the object's attributes are private, and cannot be accessed and changed publicly outside of its class. If an object's attribute does need to be changed, then we need to ensure the new value is valid. But how can we do that? Let's check out below!"
   ]
  },
  {
   "cell_type": "markdown",
   "metadata": {},
   "source": [
    "# Validations\n",
    "\n",
    "Currently, if we try to replace the car's name from `Honda` to `2308943940284923`, the object would accept it as a valid replacement. But how can we ensure only strings for examples are allowed as the name? We would modify our setter method to ensure the setter takes only a string value. If it is not valid, we would raise an exception."
   ]
  },
  {
   "cell_type": "code",
   "execution_count": null,
   "metadata": {},
   "outputs": [],
   "source": [
    "class Car:\n",
    "  def __init__(self, name, brand, model, vin):\n",
    "    self._name = name\n",
    "    self._brand = brand\n",
    "    self._model = model\n",
    "    self._vin = vin\n",
    "\n",
    "  def get_name(self):\n",
    "    return self._name\n",
    "  \n",
    "  def set_name(self, name):\n",
    "    if type(name) == str:\n",
    "      self._name = name\n",
    "    else:\n",
    "      raise TypeError(\"Only strings are allowed.\") \n",
    "\n",
    "car = Car(\"Taylor\", \"Honda\", \"Civic\", \"1VWAT7A32EC093779\")\n",
    "car.set_name(124234213)\n",
    "car.get_name()\n",
    "\n",
    "# Uncomment me and comment the two lines above to try me out\n",
    "# car.set_name(\"Toyota\")\n",
    "# car.get_name()"
   ]
  },
  {
   "cell_type": "markdown",
   "metadata": {},
   "source": [
    "## Exercise 2\n",
    "\n",
    "Add validations for the rest of the setters."
   ]
  },
  {
   "cell_type": "code",
   "execution_count": null,
   "metadata": {},
   "outputs": [],
   "source": [
    "class Car:\n",
    "  def __init__(self, name, brand, model, vin):\n",
    "    self._name = name\n",
    "    self._brand = brand\n",
    "    self._model = model\n",
    "    self._vin = vin\n",
    "\n",
    "  def get_name(self):\n",
    "    return self._name\n",
    "  \n",
    "  def set_name(self, name):\n",
    "    self._name = name\n",
    "  \n",
    "  def get_brand(self):\n",
    "    return self._brand\n",
    "  \n",
    "  def set_brand(self, brand):\n",
    "    self._brand = brand\n",
    "  \n",
    "  def get_model(self):\n",
    "    return self._model\n",
    "\n",
    "  def set_model(self, model):\n",
    "    self._model = model\n",
    "  \n",
    "  def get_vin(self):\n",
    "    return self._vin\n",
    "  \n",
    "  def set_vin(self, vin):\n",
    "    self._vin = vin\n",
    "\n",
    "car = Car(\"Taylor\", \"Honda\", \"Civic\", \"1VWAT7A32EC093779\")"
   ]
  },
  {
   "cell_type": "markdown",
   "metadata": {},
   "source": [
    "# Resources: More about OOP\n",
    "\n",
    "We will not be covering everything about OOP, but if you're interested in learning more, here are some resources to check out:\n",
    "- [GeeksForGeeks](https://www.geeksforgeeks.org/python-oops-concepts/)\n",
    "- [RealPython](https://realpython.com/python3-object-oriented-programming/)\n",
    "- [W3School](https://www.w3schools.com/python/python_classes.asp)"
   ]
  }
 ],
 "metadata": {
  "kernelspec": {
   "display_name": "Python 3",
   "language": "python",
   "name": "python3"
  },
  "language_info": {
   "codemirror_mode": {
    "name": "ipython",
    "version": 3
   },
   "file_extension": ".py",
   "mimetype": "text/x-python",
   "name": "python",
   "nbconvert_exporter": "python",
   "pygments_lexer": "ipython3",
   "version": "3.11.5"
  }
 },
 "nbformat": 4,
 "nbformat_minor": 2
}
