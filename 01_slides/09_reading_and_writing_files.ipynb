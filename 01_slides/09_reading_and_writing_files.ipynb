{
 "cells": [
  {
   "cell_type": "markdown",
   "metadata": {},
   "source": [
    "# Reading and Writing Files"
   ]
  },
  {
   "cell_type": "markdown",
   "metadata": {},
   "source": [
    "## Contents:\n",
    "1. Opening, reading, and writing Files\n",
    "2. Working with specific file formats\n",
    "3. Navigating folders\n",
    "4. Manipulating paths"
   ]
  },
  {
   "cell_type": "markdown",
   "metadata": {},
   "source": [
    "## Opening, Reading, and Writing Files\n",
    "\n",
    "Python has a built-in function, `open()` for opening files. `open()` takes a string indicating the _file path_, or location, of the file to open, plus a one-character string indicating whether we should open the file in read-only, overwrite, or append mode.\n",
    "\n",
    "| `open()` mode | Description |\n",
    "|---|---|\n",
    "|`'r'` | Read-only. Produces an error if the file does not already exist. |\n",
    "|`'w'` | Write. Creates a new file if one does not exist. If the file already exists, the current contents are deleted and overwritten. |\n",
    "|`'a'`| Append. Adds to an existing file. If the file does not exist, it will be created. |"
   ]
  },
  {
   "cell_type": "markdown",
   "metadata": {},
   "source": [
    "### Opening files\n",
    "\n",
    "To open a file, we use a `with` statement, which follows the pattern `with open('file_path') as file_variable_name:`, then an indented block of code to process the file. The `with` statement ensures that Python closes the file when we're done working with it."
   ]
  },
  {
   "cell_type": "code",
   "execution_count": null,
   "metadata": {},
   "outputs": [],
   "source": [
    "with open('../05_data/slides_data/california_housing_test.csv', 'r') as f:\n",
    "    print(f)"
   ]
  },
  {
   "cell_type": "markdown",
   "metadata": {},
   "source": [
    "### Reading files\n",
    "\n",
    "Opening a file doesn't immediately get us the file's contents. To do that, we must use a read method.\n",
    "\n",
    "* `read()` returns the full file contents, which can be overwhelming for larger files.\n",
    "* `readline()` returns only the next line in the file. Python keeps track of where it is in the file.\n",
    "* `readlines()` returns the full file as a list. Each item is one line in the file."
   ]
  },
  {
   "cell_type": "code",
   "execution_count": null,
   "metadata": {},
   "outputs": [],
   "source": [
    "with open('../05_data/slides_data/california_housing_test.csv', 'r') as f:\n",
    "    for i in range(5):\n",
    "        print(f.readline())"
   ]
  },
  {
   "cell_type": "markdown",
   "metadata": {},
   "source": [
    "### Writing files\n",
    "\n",
    "There are corresponding `write()` methods for files.\n",
    "\n",
    "* `write()` writes a string to file.\n",
    "* `writelines()` writes each item in an iterable to file, with no separating text in between."
   ]
  },
  {
   "cell_type": "code",
   "execution_count": null,
   "metadata": {},
   "outputs": [],
   "source": [
    "provinces = ['BC', 'AB', 'SK', 'MB', 'ON', 'QC', 'NL', 'NB', 'NS', 'PE']\n",
    "with open('provinces.txt', 'w') as province_file:\n",
    "    province_file.writelines(provinces)"
   ]
  },
  {
   "cell_type": "code",
   "execution_count": null,
   "metadata": {},
   "outputs": [],
   "source": [
    "with open('provinces.txt', 'r') as province_file:\n",
    "    print(province_file.read())"
   ]
  },
  {
   "cell_type": "markdown",
   "metadata": {},
   "source": [
    "## Working with specific file formats\n",
    "\n",
    "Python has built-in modules for working with specific file formats, like `csv` and `json`. We won't spend much time here, as we will soon be working with libraries that let us open, analyze, and write data in both formats."
   ]
  },
  {
   "cell_type": "code",
   "execution_count": null,
   "metadata": {},
   "outputs": [],
   "source": [
    "import csv\n",
    "\n",
    "with open('../05_data/slides_data/california_housing_test.csv', 'r') as f:\n",
    "    contents = csv.reader(f)\n",
    "    for row in contents:\n",
    "        print(row)"
   ]
  },
  {
   "cell_type": "markdown",
   "metadata": {},
   "source": [
    "## Navigating folders\n",
    "\n",
    "Being able to navigate the computer's file system enables us to work with entire folders' worth of files stored locally on a computer (or \"locally\" in an environment like Colab). Python's built-in `os` module lets us do just that."
   ]
  },
  {
   "cell_type": "code",
   "execution_count": null,
   "metadata": {},
   "outputs": [],
   "source": [
    "import os"
   ]
  },
  {
   "cell_type": "code",
   "execution_count": null,
   "metadata": {},
   "outputs": [],
   "source": [
    "# get the path to the folder we're currently in\n",
    "os.getcwd()"
   ]
  },
  {
   "cell_type": "code",
   "execution_count": null,
   "metadata": {},
   "outputs": [],
   "source": [
    "# see the contents of the current folder\n",
    "os.listdir()"
   ]
  },
  {
   "cell_type": "markdown",
   "metadata": {},
   "source": [
    "## Manipulating paths\n",
    "\n",
    "The `os.path` submodule provides safe ways to manipulate paths. `os.path.join()` lets us create properly formatted paths from separate folder and file names, without worrying about getting slashes right. `os.path.exists()` lets us check for a file before trying to open or accidentally overwriting it."
   ]
  },
  {
   "cell_type": "code",
   "execution_count": null,
   "metadata": {},
   "outputs": [],
   "source": [
    "# create full paths for sample data files\n",
    "\n",
    "cwd = os.getcwd()\n",
    "full_paths = []\n",
    "for i in os.listdir():\n",
    "    full_paths.append(os.path.join(cwd,\n",
    "                                   i))\n",
    "full_paths"
   ]
  },
  {
   "cell_type": "code",
   "execution_count": null,
   "metadata": {},
   "outputs": [],
   "source": [
    "# check if a file exists to avoid overwriting it\n",
    "text = 'Lavender is a small purple flower.'\n",
    "\n",
    "if os.path.exists('plants.txt'):\n",
    "    print('plants.txt already exists')\n",
    "else:\n",
    "    with open('plants.txt', 'w') as f:\n",
    "        f.write(text)"
   ]
  }
 ],
 "metadata": {
  "kernelspec": {
   "display_name": "dsi_participant",
   "language": "python",
   "name": "python3"
  },
  "language_info": {
   "codemirror_mode": {
    "name": "ipython",
    "version": 3
   },
   "file_extension": ".py",
   "mimetype": "text/x-python",
   "name": "python",
   "nbconvert_exporter": "python",
   "pygments_lexer": "ipython3",
   "version": "3.11.8"
  }
 },
 "nbformat": 4,
 "nbformat_minor": 2
}
