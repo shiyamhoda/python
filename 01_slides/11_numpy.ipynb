{
  "cells": [
    {
      "cell_type": "markdown",
      "id": "40d3f376",
      "metadata": {
        "id": "40d3f376"
      },
      "source": [
        "# Introduction to `numpy`"
      ]
    },
    {
      "cell_type": "markdown",
      "id": "e5e5ab47",
      "metadata": {
        "id": "e5e5ab47"
      },
      "source": [
        "# Contents:\n",
        "\n",
        "Dataset used: california_housing_test.csv\n",
        "\n",
        "1. Setup\n",
        "2. `numpy`\n",
        "  1. Intro and arrays\n",
        "  2. Loading `numpy`\n",
        "  3. Creating arrays\n",
        "  4. Reshaping\n",
        "  5. Basic operations\n",
        "  6. Logic and filtering\n",
        "  7. Loading data"
      ]
    },
    {
      "cell_type": "markdown",
      "id": "b80d4fb6",
      "metadata": {
        "id": "b80d4fb6"
      },
      "source": [
        "# `numpy`"
      ]
    },
    {
      "cell_type": "markdown",
      "id": "4339b9f2",
      "metadata": {
        "id": "4339b9f2"
      },
      "source": [
        "## What is `numpy`?\n",
        "\n",
        "`numpy` is a Python package for scientific computing. It gives us _homogenous multidimensional arrays_ -- a way of representing grids of elements where all elements are the same data type -- and functions to work efficiently with them. `numpy` both underpins and complements other data science libraries, including `pandas`, `matplotlib`, and `scikit-learn`."
      ]
    },
    {
      "cell_type": "markdown",
      "id": "135cb217",
      "metadata": {
        "id": "135cb217"
      },
      "source": [
        "## Arrays vs lists\n",
        "\n",
        "| `numpy` arrays | Python `list` |\n",
        "|---|---|\n",
        "| all elements must be the same type | elements can be different types |\n",
        "| fixed size | can change size |\n",
        "| n-dimensional | 1-dimensional |\n",
        "| faster to process | slower to process |\n",
        "| consumes less memory | consumes more memory |"
      ]
    },
    {
      "cell_type": "markdown",
      "id": "50f9c343",
      "metadata": {
        "id": "50f9c343"
      },
      "source": [
        "## Loading `numpy`\n",
        "\n",
        "We can `import` numpy like any other module. For convenience, `numpy` is typically loaded `as np` -- an alias that makes referencing it easier."
      ]
    },
    {
      "cell_type": "markdown",
      "id": "ca881dfe",
      "metadata": {},
      "source": [
        "In our Python code, we will import `numpy` as `np`."
      ]
    },
    {
      "cell_type": "code",
      "execution_count": null,
      "id": "cea5f938",
      "metadata": {
        "id": "cea5f938"
      },
      "outputs": [],
      "source": [
        "import numpy as np"
      ]
    },
    {
      "cell_type": "markdown",
      "id": "7e774e1e",
      "metadata": {
        "id": "7e774e1e"
      },
      "source": [
        "## `numpy` arrays\n",
        "\n",
        "The main object in `numpy` is the `ndarray`, also referred to as the `array`. Dimensions in an array are called _axes_. Most arrays we'll work with will be one-dimensional _vectors_ and two-dimensional _matrices_.\n",
        "\n",
        "We can create an array by calling `np.array()` and passing in data as a single value, like a list. Below is a matrix. The first axis has a length of two, and the second axis has a length of 3."
      ]
    },
    {
      "cell_type": "code",
      "execution_count": null,
      "id": "cf533fdd",
      "metadata": {
        "colab": {
          "base_uri": "https://localhost:8080/"
        },
        "id": "cf533fdd",
        "outputId": "4ad1a1e1-cab0-4f5b-c3af-2a3412e15c42"
      },
      "outputs": [],
      "source": [
        "a = np.array([[1, 2, 3],\n",
        "              [3, 2, 1]])\n",
        "a"
      ]
    },
    {
      "cell_type": "markdown",
      "id": "b0f1b710",
      "metadata": {
        "id": "b0f1b710"
      },
      "source": [
        "An `array` has an `ndim` attribute indicating the number of its axes, a `size` indicating the number of values it has, and a `shape` indicating its size in each dimension. It also has a `dtype` describing what data type all of the elements in the array are."
      ]
    },
    {
      "cell_type": "code",
      "execution_count": null,
      "id": "aa7267e0",
      "metadata": {
        "colab": {
          "base_uri": "https://localhost:8080/"
        },
        "id": "aa7267e0",
        "outputId": "208c112b-0841-4b24-ff58-3eb5b9de911e"
      },
      "outputs": [],
      "source": [
        "# number of dimensions\n",
        "print(a.ndim)\n",
        "\n",
        "# notice that the shape is rows x columns\n",
        "print(a.shape)\n",
        "\n",
        "# notice that the size is rows * columns\n",
        "print(a.size)\n",
        "\n",
        "# int32 is a numpy-provided dtype\n",
        "print(a.dtype)"
      ]
    },
    {
      "cell_type": "markdown",
      "id": "19868422",
      "metadata": {
        "id": "19868422"
      },
      "source": [
        "We can create arrays with placeholder content in several ways. This is useful when we know how many elements will be in an array, but not their values, as `numpy` arrays have fixed size. The full list is in [`numpy`'s documentation](https://numpy.org/devdocs/user/basics.creation.html#arrays-creation)."
      ]
    },
    {
      "cell_type": "code",
      "execution_count": null,
      "id": "1fbe0b9b",
      "metadata": {
        "colab": {
          "base_uri": "https://localhost:8080/"
        },
        "id": "1fbe0b9b",
        "outputId": "56167f5a-fd81-4a25-bf1f-98b541ae35bf"
      },
      "outputs": [],
      "source": [
        "# create an 2x3x2 array of zeros. notice the double parentheses\n",
        "np.zeros((2, 3, 2))"
      ]
    },
    {
      "cell_type": "code",
      "execution_count": null,
      "id": "ecbd2b2b",
      "metadata": {
        "colab": {
          "base_uri": "https://localhost:8080/"
        },
        "id": "ecbd2b2b",
        "outputId": "a1b55b46-0fc7-4cb8-cb75-8e6970fb8711"
      },
      "outputs": [],
      "source": [
        "# create an array of ones based on the earlier a array\n",
        "np.ones_like(a)"
      ]
    },
    {
      "cell_type": "markdown",
      "id": "c24cee39",
      "metadata": {
        "id": "c24cee39"
      },
      "source": [
        "We can also create arrays by specifying a range of values through `arange()` or generating random ones through functions like `random.randint()` and `random.random()`."
      ]
    },
    {
      "cell_type": "code",
      "execution_count": null,
      "id": "1310f431",
      "metadata": {
        "colab": {
          "base_uri": "https://localhost:8080/"
        },
        "id": "1310f431",
        "outputId": "1acd1a79-534b-40fd-9321-5374cd619dd9"
      },
      "outputs": [],
      "source": [
        "# create a 1D array from 1 til 10 in steps of 2\n",
        "np.arange(1, 10, 2)"
      ]
    },
    {
      "cell_type": "code",
      "execution_count": null,
      "id": "15ab7ec5",
      "metadata": {
        "colab": {
          "base_uri": "https://localhost:8080/"
        },
        "id": "15ab7ec5",
        "outputId": "adce8fe7-6fd7-4a07-fc89-798a715791ef"
      },
      "outputs": [],
      "source": [
        "# create a 1D array from 0 to 1 in steps of 0.1\n",
        "np.arange(0, 1, 0.1)"
      ]
    },
    {
      "cell_type": "code",
      "execution_count": null,
      "id": "d4f35396",
      "metadata": {
        "colab": {
          "base_uri": "https://localhost:8080/"
        },
        "id": "d4f35396",
        "outputId": "26a9ca69-444b-48a5-8b71-dbe19fa7a0b6"
      },
      "outputs": [],
      "source": [
        "# seed is used to create a reproducible random example\n",
        "np.random.seed(1)\n",
        "# create a 3x4 array of random integers between 1 and 10\n",
        "np.random.randint(1, 10, (3, 4))"
      ]
    },
    {
      "cell_type": "markdown",
      "id": "c7c9f568",
      "metadata": {
        "id": "c7c9f568"
      },
      "source": [
        "We can repeat values and arrays to create bigger ones with `repeat()` and `tile()`.\n",
        "\n",
        "`repeat()` repeats each element of an array a specified number or times.\n",
        "`tile()` repeats the whole input array a specified number of times."
      ]
    },
    {
      "cell_type": "code",
      "execution_count": null,
      "id": "4e688f6f",
      "metadata": {
        "colab": {
          "base_uri": "https://localhost:8080/"
        },
        "id": "4e688f6f",
        "outputId": "8035124b-db41-46cc-83dd-3a3ea4fe9f81"
      },
      "outputs": [],
      "source": [
        "# create a 1D array through repetition\n",
        "np.repeat(10, 5)"
      ]
    },
    {
      "cell_type": "code",
      "execution_count": null,
      "id": "z0XDhLZFllzB",
      "metadata": {
        "colab": {
          "base_uri": "https://localhost:8080/"
        },
        "id": "z0XDhLZFllzB",
        "outputId": "9c05353b-f179-4a8e-aecc-d738d9fc8c74"
      },
      "outputs": [],
      "source": [
        "onedim_arr = np.array([1, 2, 3, 4, 5])\n",
        "multidim_arr = np.repeat(onedim_arr, 5)\n",
        "multidim_arr"
      ]
    },
    {
      "cell_type": "code",
      "execution_count": null,
      "id": "d82d4e65",
      "metadata": {
        "colab": {
          "base_uri": "https://localhost:8080/"
        },
        "id": "d82d4e65",
        "outputId": "e2994978-1459-4969-d85f-39c370b022ad"
      },
      "outputs": [],
      "source": [
        "# create a 2D array through repetition\n",
        "multidim_arr = np.tile(onedim_arr, (5,1))\n",
        "multidim_arr"
      ]
    },
    {
      "cell_type": "code",
      "execution_count": null,
      "id": "5de34ff9",
      "metadata": {
        "colab": {
          "base_uri": "https://localhost:8080/"
        },
        "id": "5de34ff9",
        "outputId": "5d40d080-75b2-491f-e99d-d4901911b975"
      },
      "outputs": [],
      "source": [
        "# repeat onedim_arr in multiple directions\n",
        "another_arr = np.tile(onedim_arr, (3,3))\n",
        "another_arr"
      ]
    },
    {
      "cell_type": "markdown",
      "id": "0ae13590",
      "metadata": {
        "id": "0ae13590"
      },
      "source": [
        "### Simulating data\n",
        "\n",
        "Sometimes, it can be useful to simulate data to make sure an analysis works as expected. `numpy`'s `random` submodule provides support for drawing random samples from a variety of distributions. To generate random samples, we first call `default_rng()` to create a sample Generator. Then, we use the Generator's various distribution methods, like `normal()`, to create sample arrays."
      ]
    },
    {
      "cell_type": "code",
      "execution_count": null,
      "id": "7cd8a282",
      "metadata": {
        "colab": {
          "base_uri": "https://localhost:8080/"
        },
        "id": "7cd8a282",
        "outputId": "74222bc5-452d-4a66-a604-d25cec3d0243"
      },
      "outputs": [],
      "source": [
        "# create the sample Generator\n",
        "rng = np.random.default_rng(seed=42)\n",
        "\n",
        "# create a 5x4 array w/ normally distributed data\n",
        "# distribution has mean 10, standard dev. 2.5\n",
        "randrng = rng.normal(10, 2.5, (5, 4))\n",
        "randrng"
      ]
    },
    {
      "cell_type": "code",
      "execution_count": null,
      "id": "f6bd79cb",
      "metadata": {
        "colab": {
          "base_uri": "https://localhost:8080/"
        },
        "id": "f6bd79cb",
        "outputId": "84f52f0e-b30d-4628-8c52-112ab9d31fe4"
      },
      "outputs": [],
      "source": [
        "# using the same Generator to draw a random sample from a Poisson distribution\n",
        "# lam is 1 and size is 5x6\n",
        "poissonrng = rng.poisson(1, (5, 6))\n",
        "poissonrng"
      ]
    },
    {
      "cell_type": "markdown",
      "id": "a9db9083",
      "metadata": {
        "id": "a9db9083"
      },
      "source": [
        "## Reshaping arrays\n",
        "\n",
        "We can change the shape of an array in various ways, leaving the elements the same."
      ]
    },
    {
      "cell_type": "code",
      "execution_count": null,
      "id": "cff90fbf",
      "metadata": {
        "colab": {
          "base_uri": "https://localhost:8080/"
        },
        "id": "cff90fbf",
        "outputId": "b5e78188-b6de-4042-a7be-d591c435bc45"
      },
      "outputs": [],
      "source": [
        "# get the transpose of an array\n",
        "b = np.array([[5, 4, 3, 2, 1, 0],\n",
        "              [10, 8, 6, 4, 2, 0]])\n",
        "b.T"
      ]
    },
    {
      "cell_type": "code",
      "execution_count": null,
      "id": "588fdb6f",
      "metadata": {
        "colab": {
          "base_uri": "https://localhost:8080/"
        },
        "id": "588fdb6f",
        "outputId": "319b42c6-bcd6-4c1c-9c40-e38263794921"
      },
      "outputs": [],
      "source": [
        "# change dimensions\n",
        "b.reshape(4, 3)"
      ]
    },
    {
      "cell_type": "code",
      "execution_count": null,
      "id": "e7a4a530",
      "metadata": {
        "colab": {
          "base_uri": "https://localhost:8080/"
        },
        "id": "e7a4a530",
        "outputId": "e21e5f35-0530-4126-d3db-d703db030639"
      },
      "outputs": [],
      "source": [
        "# collapse an array to one dimension\n",
        "b.flatten()"
      ]
    },
    {
      "cell_type": "markdown",
      "id": "62ddbb94",
      "metadata": {
        "id": "62ddbb94"
      },
      "source": [
        "If two arrays share the same size along an axis, we can stack them with `np.hstack()` and `np.vstack()`. Notice that we pass the arrays to stack as a tuple."
      ]
    },
    {
      "cell_type": "code",
      "execution_count": null,
      "id": "96677720",
      "metadata": {
        "colab": {
          "base_uri": "https://localhost:8080/"
        },
        "id": "96677720",
        "outputId": "b3b65f88-b655-41b6-f775-86b571cf80d2"
      },
      "outputs": [],
      "source": [
        "# stack a and b horizontally\n",
        "np.hstack((b, a))"
      ]
    },
    {
      "cell_type": "code",
      "execution_count": null,
      "id": "d84a8fdc",
      "metadata": {
        "colab": {
          "base_uri": "https://localhost:8080/"
        },
        "id": "d84a8fdc",
        "outputId": "e5b20499-ebbe-45a4-cf60-f5493ca00085"
      },
      "outputs": [],
      "source": [
        "# reshape b before stacking vertically\n",
        "np.vstack((b.reshape(4, 3), a))"
      ]
    },
    {
      "cell_type": "markdown",
      "id": "ecf0d862",
      "metadata": {
        "id": "ecf0d862"
      },
      "source": [
        "## Basic operations\n",
        "\n",
        "`numpy` arrays let us perform vector operations, manipulating all the elements in an axis without writing loops."
      ]
    },
    {
      "cell_type": "code",
      "execution_count": null,
      "id": "c8789eee",
      "metadata": {
        "colab": {
          "base_uri": "https://localhost:8080/"
        },
        "id": "c8789eee",
        "outputId": "df95b44c-9762-4db3-e6a6-baf3f604051c"
      },
      "outputs": [],
      "source": [
        "arr1 = np.array([5, 10, 15, 20])\n",
        "arr1"
      ]
    },
    {
      "cell_type": "code",
      "execution_count": null,
      "id": "3221b5ee",
      "metadata": {
        "colab": {
          "base_uri": "https://localhost:8080/"
        },
        "id": "3221b5ee",
        "outputId": "02a3399f-3890-405c-a145-904aa48670ff"
      },
      "outputs": [],
      "source": [
        "arr2 = np.arange(5, 9)\n",
        "arr2"
      ]
    },
    {
      "cell_type": "code",
      "execution_count": null,
      "id": "355a767b",
      "metadata": {
        "colab": {
          "base_uri": "https://localhost:8080/"
        },
        "id": "355a767b",
        "outputId": "16cc0ef5-ec63-45ab-e65a-034f05cd80fa"
      },
      "outputs": [],
      "source": [
        "np.sin(np.arange(0, 360, 45) * np.pi/180)"
      ]
    },
    {
      "cell_type": "markdown",
      "id": "1a39707c",
      "metadata": {
        "id": "1a39707c"
      },
      "source": [
        "We can perform operations when arrays are the same length along the axis in use, or when values can be _broadcast_, or repeated, along an axis."
      ]
    },
    {
      "cell_type": "code",
      "execution_count": null,
      "id": "e5dada56",
      "metadata": {
        "colab": {
          "base_uri": "https://localhost:8080/"
        },
        "id": "e5dada56",
        "outputId": "5cad00b0-8f45-4cec-9223-1f6ffe3a7d2e"
      },
      "outputs": [],
      "source": [
        "# arr1 and arr2 are the same length\n",
        "arr1 - arr2"
      ]
    },
    {
      "cell_type": "code",
      "execution_count": null,
      "id": "70a2b6b7",
      "metadata": {
        "colab": {
          "base_uri": "https://localhost:8080/"
        },
        "id": "70a2b6b7",
        "outputId": "3a25d030-a820-4000-f758-b14cb2751a75"
      },
      "outputs": [],
      "source": [
        "results = []\n",
        "for i, j in zip(arr1, arr2):\n",
        "    results.append(i - j)\n",
        "\n",
        "results"
      ]
    },
    {
      "cell_type": "code",
      "execution_count": null,
      "id": "11d5c9ab",
      "metadata": {
        "colab": {
          "base_uri": "https://localhost:8080/"
        },
        "id": "11d5c9ab",
        "outputId": "2b7a9f91-e050-4e9d-a6d3-efbbb5d25aa2"
      },
      "outputs": [],
      "source": [
        "# multiple each element in arr1 by 2\n",
        "arr1 * 2"
      ]
    },
    {
      "cell_type": "code",
      "execution_count": null,
      "id": "d96c4676",
      "metadata": {
        "colab": {
          "base_uri": "https://localhost:8080/",
          "height": 191
        },
        "id": "d96c4676",
        "outputId": "78f89eb2-f4a8-46e3-8d42-829004a612d9"
      },
      "outputs": [],
      "source": [
        "# incompatible shapes\n",
        "arr2 + np.array([1, 2])"
      ]
    },
    {
      "cell_type": "code",
      "execution_count": null,
      "id": "e775898d",
      "metadata": {
        "colab": {
          "base_uri": "https://localhost:8080/"
        },
        "id": "e775898d",
        "outputId": "84b745d4-5ee8-49f7-a6cd-31ed1e06f6e6"
      },
      "outputs": [],
      "source": [
        "short_output = []\n",
        "for i, j in zip(arr2, np.array([1, 2])):\n",
        "    short_output.append(i + j)\n",
        "\n",
        "short_output"
      ]
    },
    {
      "cell_type": "markdown",
      "id": "48205385",
      "metadata": {
        "id": "48205385"
      },
      "source": [
        "We can also summarize the values in an array."
      ]
    },
    {
      "cell_type": "code",
      "execution_count": null,
      "id": "c97fff71",
      "metadata": {
        "colab": {
          "base_uri": "https://localhost:8080/"
        },
        "id": "c97fff71",
        "outputId": "1dd22e1d-709a-4900-dab1-33177fd29eb7"
      },
      "outputs": [],
      "source": [
        "print(f'''arr1 sums to {arr1.sum()}.\n",
        "Its max value is {arr1.max()}, and its mean is {arr1.mean()}.''')"
      ]
    },
    {
      "cell_type": "markdown",
      "id": "729111af",
      "metadata": {
        "id": "729111af"
      },
      "source": [
        "Some descriptive statistics are only `numpy` functions, and are not available as `array` methods like we saw above."
      ]
    },
    {
      "cell_type": "code",
      "execution_count": null,
      "id": "0a29625a",
      "metadata": {
        "colab": {
          "base_uri": "https://localhost:8080/"
        },
        "id": "0a29625a",
        "outputId": "406843b2-3c27-4d7e-90ef-df9998e584a6"
      },
      "outputs": [],
      "source": [
        "np.median(arr1)"
      ]
    },
    {
      "cell_type": "code",
      "execution_count": null,
      "id": "306e7f1f",
      "metadata": {
        "colab": {
          "base_uri": "https://localhost:8080/",
          "height": 174
        },
        "id": "306e7f1f",
        "outputId": "1e585ed0-4f91-464c-e7d5-dfeb9581da7c"
      },
      "outputs": [],
      "source": [
        "arr1.median()"
      ]
    },
    {
      "cell_type": "markdown",
      "id": "2efda296",
      "metadata": {
        "id": "2efda296"
      },
      "source": [
        "## Operations in multiple dimensions\n",
        "\n",
        "In a multi-dimensional array like a matrix, elements of same-sized arrays will be paired up for operations, just as with vectors. If we perform an operation with a matrix and a vector of the same size in one dimension, the vector can be _broadcast_ to repeat along the other dimension."
      ]
    },
    {
      "cell_type": "code",
      "execution_count": null,
      "id": "3a9faa69",
      "metadata": {
        "colab": {
          "base_uri": "https://localhost:8080/"
        },
        "id": "3a9faa69",
        "outputId": "cd336091-ae9c-4ec0-cdfe-1cbf3f19d504"
      },
      "outputs": [],
      "source": [
        "tens = np.arange(0, 120, 10).reshape(3, 4)\n",
        "tens"
      ]
    },
    {
      "cell_type": "code",
      "execution_count": null,
      "id": "a1983e0d",
      "metadata": {
        "colab": {
          "base_uri": "https://localhost:8080/"
        },
        "id": "a1983e0d",
        "outputId": "0dc0870a-d00f-49fc-e457-c35a5e48a32c"
      },
      "outputs": [],
      "source": [
        "horizontal = np.array([-5, -10, -15, -20])\n",
        "\n",
        "tens + horizontal"
      ]
    },
    {
      "cell_type": "code",
      "execution_count": null,
      "id": "309f58eb",
      "metadata": {
        "colab": {
          "base_uri": "https://localhost:8080/"
        },
        "id": "309f58eb",
        "outputId": "a864d48e-1516-45d0-a2eb-6138168a82be"
      },
      "outputs": [],
      "source": [
        "vertical = np.array([[100],\n",
        "                     [200],\n",
        "                     [300]])\n",
        "tens + vertical"
      ]
    },
    {
      "cell_type": "markdown",
      "id": "1094644a",
      "metadata": {
        "id": "1094644a"
      },
      "source": [
        "We can still calculate statistics for multidimensional arrays, but we must specify the axis to calculate over. To calculate values for each column, we use `axis=0`. To calculate for each row, we use `axis=1`.\n",
        "\n",
        "#### 1. `axis=0`: Column-wise Operation\n",
        "\n",
        "When you set `axis=0`, the operation is performed along the vertical axis of the array, i.e., down the rows. This is often referred to as a column-wise operation.\n",
        "\n",
        "- **In a 2D array**: This calculates the mean of each column.\n",
        "- **Example**: If you have a 2x3 array (2 rows, 3 columns), using `axis=0` with `.mean()` will result in a 1D array with 3 elements, each being the mean of the columns.\n",
        "\n",
        "#### 2. `axis=1`: Row-wise Operation\n",
        "\n",
        "Conversely, when you set `axis=1`, the operation is performed along the horizontal axis of the array, i.e., across the columns. This is referred to as a row-wise operation.\n",
        "\n",
        "- **In a 2D array**: This calculates the mean of each row.\n",
        "- **Example**: If you have a 2x3 array, using `axis=1` with `.mean()` will yield a 1D array with 2 elements, each being the mean of the rows.\n",
        "\n",
        "#### Summary\n",
        "\n",
        "- `axis=0`: Column-wise operation (down the rows).\n",
        "- `axis=1`: Row-wise operation (across the columns)."
      ]
    },
    {
      "cell_type": "code",
      "execution_count": null,
      "id": "b3c1440f",
      "metadata": {
        "colab": {
          "base_uri": "https://localhost:8080/"
        },
        "id": "b3c1440f",
        "outputId": "0e5891f0-4117-46f2-b31f-5847ee0ba96c"
      },
      "outputs": [],
      "source": [
        "tens.mean(axis=0)"
      ]
    },
    {
      "cell_type": "code",
      "execution_count": null,
      "id": "d332e5f7",
      "metadata": {
        "colab": {
          "base_uri": "https://localhost:8080/"
        },
        "id": "d332e5f7",
        "outputId": "454c27eb-ffaa-4d02-a4e1-9a1bda31c7be"
      },
      "outputs": [],
      "source": [
        "tens.mean(axis=1)"
      ]
    },
    {
      "cell_type": "markdown",
      "id": "a2628461",
      "metadata": {
        "id": "a2628461"
      },
      "source": [
        "## Indexing, slicing, and iterating\n",
        "\n",
        "We can index and slice arrays like we would a list."
      ]
    },
    {
      "cell_type": "code",
      "execution_count": null,
      "id": "5b09c0ee",
      "metadata": {
        "colab": {
          "base_uri": "https://localhost:8080/"
        },
        "id": "5b09c0ee",
        "outputId": "4872f924-f8ab-4df0-ce2e-cd874b72e417"
      },
      "outputs": [],
      "source": [
        "arr1"
      ]
    },
    {
      "cell_type": "code",
      "execution_count": null,
      "id": "a353dd04",
      "metadata": {
        "colab": {
          "base_uri": "https://localhost:8080/"
        },
        "id": "a353dd04",
        "outputId": "1ba7264a-6d17-4d21-8258-6c3a6589d8f7"
      },
      "outputs": [],
      "source": [
        "arr1[1]"
      ]
    },
    {
      "cell_type": "code",
      "execution_count": null,
      "id": "47f8ffeb",
      "metadata": {
        "colab": {
          "base_uri": "https://localhost:8080/"
        },
        "id": "47f8ffeb",
        "outputId": "040a8a4b-14e5-4476-de84-de24bd9844fb"
      },
      "outputs": [],
      "source": [
        "arr1[1:3]"
      ]
    },
    {
      "cell_type": "markdown",
      "id": "93d7176b",
      "metadata": {
        "id": "93d7176b"
      },
      "source": [
        "We can iterate over arrays as well, though vectorized `numpy` operations are preferred when possible."
      ]
    },
    {
      "cell_type": "code",
      "execution_count": null,
      "id": "649cbd88",
      "metadata": {
        "colab": {
          "base_uri": "https://localhost:8080/"
        },
        "id": "649cbd88",
        "outputId": "3bc02537-1202-47bd-f219-472ee38e832a"
      },
      "outputs": [],
      "source": [
        "for i in arr1:\n",
        "    print(i)"
      ]
    },
    {
      "cell_type": "markdown",
      "id": "e1f1ae92",
      "metadata": {
        "id": "e1f1ae92"
      },
      "source": [
        "Multidimensional arrays like matrices have one index per axis. We can pass in more than one index within the square brackets."
      ]
    },
    {
      "cell_type": "code",
      "execution_count": null,
      "id": "53cf1386",
      "metadata": {
        "colab": {
          "base_uri": "https://localhost:8080/"
        },
        "id": "53cf1386",
        "outputId": "58ee4d97-3462-4078-f7c7-3481a24f0eea"
      },
      "outputs": [],
      "source": [
        "tens"
      ]
    },
    {
      "cell_type": "code",
      "execution_count": null,
      "id": "261defc4",
      "metadata": {
        "colab": {
          "base_uri": "https://localhost:8080/"
        },
        "id": "261defc4",
        "outputId": "0327418b-6673-4276-8174-0592fd0f8986"
      },
      "outputs": [],
      "source": [
        "# indexing goes row, column\n",
        "tens[1, 2]"
      ]
    },
    {
      "cell_type": "code",
      "execution_count": null,
      "id": "6947bfd8",
      "metadata": {
        "colab": {
          "base_uri": "https://localhost:8080/"
        },
        "id": "6947bfd8",
        "outputId": "2f749b3d-cdc7-4b88-d5ef-775a7b3d6bb5"
      },
      "outputs": [],
      "source": [
        "# get the first row\n",
        "tens[0]"
      ]
    },
    {
      "cell_type": "code",
      "execution_count": null,
      "id": "f3dffa04",
      "metadata": {
        "colab": {
          "base_uri": "https://localhost:8080/"
        },
        "id": "f3dffa04",
        "outputId": "96b8dd07-24c2-4b7e-fe5c-e3c1b86781ee"
      },
      "outputs": [],
      "source": [
        "# get the first column\n",
        "tens[:,0]"
      ]
    },
    {
      "cell_type": "code",
      "execution_count": null,
      "id": "7d0c42cc",
      "metadata": {
        "colab": {
          "base_uri": "https://localhost:8080/"
        },
        "id": "7d0c42cc",
        "outputId": "434273a4-e68f-421d-e901-4d0b05088fb8"
      },
      "outputs": [],
      "source": [
        "# slice rows 1-2, columns 2-3\n",
        "tens[0:2, 1:3]"
      ]
    },
    {
      "cell_type": "markdown",
      "id": "425049f9",
      "metadata": {
        "id": "425049f9"
      },
      "source": [
        "## Mutations and copies\n",
        "\n",
        "We can also update individual elements in an array. Note that any variables that refer to that array will also change, just like with mutating lists. To make an independent copy of an array, use the `.copy()` method."
      ]
    },
    {
      "cell_type": "code",
      "execution_count": null,
      "id": "72097846",
      "metadata": {
        "colab": {
          "base_uri": "https://localhost:8080/"
        },
        "id": "72097846",
        "outputId": "ebac9615-ab43-4ff6-8020-a6af5dc27e83"
      },
      "outputs": [],
      "source": [
        "# create a 3x4 array of random integers\n",
        "matrix = np.random.randint(1, 11, 12).reshape(3, 4)\n",
        "matrix2 = matrix\n",
        "\n",
        "#make a copy\n",
        "matrix3 = matrix.copy()\n",
        "\n",
        "matrix"
      ]
    },
    {
      "cell_type": "code",
      "execution_count": null,
      "id": "ddaa9d8d",
      "metadata": {
        "colab": {
          "base_uri": "https://localhost:8080/"
        },
        "id": "ddaa9d8d",
        "outputId": "65737a83-53ca-46b6-f622-b262151d1d3b"
      },
      "outputs": [],
      "source": [
        "# replace the second row\n",
        "matrix2[1] = [0, 0, 0, 0]\n",
        "matrix2"
      ]
    },
    {
      "cell_type": "code",
      "execution_count": null,
      "id": "a2aaf95f",
      "metadata": {
        "colab": {
          "base_uri": "https://localhost:8080/"
        },
        "id": "a2aaf95f",
        "outputId": "b92d347d-a62a-49b1-9599-c0342ccf2ce1"
      },
      "outputs": [],
      "source": [
        "# the original also changed\n",
        "matrix"
      ]
    },
    {
      "cell_type": "code",
      "execution_count": null,
      "id": "8e084715",
      "metadata": {
        "colab": {
          "base_uri": "https://localhost:8080/"
        },
        "id": "8e084715",
        "outputId": "5631f106-97cd-4c14-ba66-4f39aa9cc566"
      },
      "outputs": [],
      "source": [
        "# the copy did not\n",
        "matrix3"
      ]
    },
    {
      "cell_type": "markdown",
      "id": "f3f13b89",
      "metadata": {
        "id": "f3f13b89"
      },
      "source": [
        "## Logic and filtering\n",
        "\n",
        "`numpy` arrays work with boolean expressions. Each element is checked, and the result is an array of `True`/`False` values. They resulting arrays sometimes called _masks_ because they are used to mask, or filter, data."
      ]
    },
    {
      "cell_type": "code",
      "execution_count": null,
      "id": "5f267d1d",
      "metadata": {
        "colab": {
          "base_uri": "https://localhost:8080/"
        },
        "id": "5f267d1d",
        "outputId": "890ddabe-7fec-4848-eb97-f66e28177d20"
      },
      "outputs": [],
      "source": [
        "tens"
      ]
    },
    {
      "cell_type": "code",
      "execution_count": null,
      "id": "2b39604e",
      "metadata": {
        "colab": {
          "base_uri": "https://localhost:8080/"
        },
        "id": "2b39604e",
        "outputId": "1f61d0bf-b83c-4ab2-e196-911f7205584d"
      },
      "outputs": [],
      "source": [
        "# evaluate whether each element is divisible by 3\n",
        "tens % 3 == 0"
      ]
    },
    {
      "cell_type": "code",
      "execution_count": null,
      "id": "f0cff4b0",
      "metadata": {
        "colab": {
          "base_uri": "https://localhost:8080/"
        },
        "id": "f0cff4b0",
        "outputId": "1686ff21-8213-44c7-ec36-26b881b46f19"
      },
      "outputs": [],
      "source": [
        "# the same thing with for loops\n",
        "masked = []\n",
        "\n",
        "for row in tens:\n",
        "    masked_row = []\n",
        "    for col in row:\n",
        "        masked_row.append(col % 3 == 0)\n",
        "    masked.append(masked_row)\n",
        "\n",
        "masked"
      ]
    },
    {
      "cell_type": "markdown",
      "id": "bae12ead",
      "metadata": {
        "id": "bae12ead"
      },
      "source": [
        "To filter use a boolean expression as a mask, pass it into square brackets after the array to mask."
      ]
    },
    {
      "cell_type": "code",
      "execution_count": null,
      "id": "6f5fa220",
      "metadata": {
        "colab": {
          "base_uri": "https://localhost:8080/"
        },
        "id": "6f5fa220",
        "outputId": "5c8a0521-0cec-4dcc-cd7c-bccd4e8cd271"
      },
      "outputs": [],
      "source": [
        "tens[tens % 3 == 0]"
      ]
    },
    {
      "cell_type": "code",
      "execution_count": null,
      "id": "0b7d3b7f",
      "metadata": {
        "colab": {
          "base_uri": "https://localhost:8080/"
        },
        "id": "0b7d3b7f",
        "outputId": "e5f0ad8a-7dc4-4b13-e9e4-5d925fc240cc"
      },
      "outputs": [],
      "source": [
        "# also works\n",
        "mask = tens % 3 == 0\n",
        "tens[mask]"
      ]
    },
    {
      "cell_type": "code",
      "execution_count": null,
      "id": "a2f02b2b",
      "metadata": {
        "colab": {
          "base_uri": "https://localhost:8080/"
        },
        "id": "a2f02b2b",
        "outputId": "aa03e388-00b2-45c3-fa36-f370d974f449"
      },
      "outputs": [],
      "source": [
        "# comparison in standard python\n",
        "filtered_data = []\n",
        "\n",
        "for row in tens:\n",
        "    for col in row:\n",
        "        if col % 3 == 0:\n",
        "            filtered_data.append(col)\n",
        "\n",
        "filtered_data"
      ]
    },
    {
      "cell_type": "markdown",
      "id": "cb4a4676",
      "metadata": {
        "id": "cb4a4676"
      },
      "source": [
        "We can even use masks to generate new arrays with conditionals. `np.where()` takes as its arguments a boolean expression, an expression to evaluate if `True`, and an expression to evaluate elsewise. This is analagous to creating a new array based on an old one with a `for` loop and `if`/`else` statements, but much faster."
      ]
    },
    {
      "cell_type": "code",
      "execution_count": null,
      "id": "71a2aa2d",
      "metadata": {
        "colab": {
          "base_uri": "https://localhost:8080/"
        },
        "id": "71a2aa2d",
        "outputId": "2e508d65-a12d-4cee-8e61-5746fee05239"
      },
      "outputs": [],
      "source": [
        "np.where(tens % 3 == 0,  # condition\n",
        "         tens,  # return the element if True\n",
        "         0)  # return 0 if False"
      ]
    },
    {
      "cell_type": "code",
      "execution_count": null,
      "id": "b207b630",
      "metadata": {
        "colab": {
          "base_uri": "https://localhost:8080/"
        },
        "id": "b207b630",
        "outputId": "34b1fa63-e905-4ab1-e039-3b146b41cef4"
      },
      "outputs": [],
      "source": [
        "result = []\n",
        "\n",
        "for row in tens:\n",
        "    result_row = []\n",
        "    for col in row:\n",
        "        if col % 3 == 0:\n",
        "            result_row.append(col)\n",
        "        else:\n",
        "            result_row.append(0)\n",
        "    result.append(result_row)\n",
        "\n",
        "result"
      ]
    },
    {
      "cell_type": "markdown",
      "id": "6536654d",
      "metadata": {
        "id": "6536654d"
      },
      "source": [
        "## Loading flat files to `numpy` arrays\n",
        "\n",
        "We can also load data from files into `numpy` arrays. Recall the California housing csv we loaded earlier:"
      ]
    },
    {
      "cell_type": "code",
      "execution_count": null,
      "id": "4f53edf1",
      "metadata": {
        "colab": {
          "base_uri": "https://localhost:8080/"
        },
        "id": "4f53edf1",
        "outputId": "4d86bbd1-56aa-4ad4-c1e9-c37eea0990e4"
      },
      "outputs": [],
      "source": [
        "with open('../05_data/slides_data/california_housing_test.csv', 'r') as f:\n",
        "    # print the first five lines\n",
        "    for i in range(5):\n",
        "        print(f.readline())"
      ]
    },
    {
      "cell_type": "markdown",
      "id": "1b18537e",
      "metadata": {
        "id": "1b18537e"
      },
      "source": [
        "We can load this data to a `numpy` array using `genfromtxt()`, which takes a path to a file as an argument. We should also include a `delimiter` argument, indicating how values are separated. Useful optional arguments include `names`, which we can use to tell `numpy` that the first row contains column names; `skip_header`, which we can use to skip the first few lines; and arguments for how to handle missing values."
      ]
    },
    {
      "cell_type": "markdown",
      "id": "d811f466",
      "metadata": {
        "id": "d811f466"
      },
      "source": [
        "There is also `loadtxt()`, which is simpler than `genfromtxt()`. The former does not have options for using header names or handling missing values.\n",
        "To fill missing values, we need to set the `usemask` parameter to `True`. The result will be a masked array in that case, which we can then convert to a regular array with the `filled(np.nan)` method. Note that this only works for float columns."
      ]
    },
    {
      "cell_type": "code",
      "execution_count": null,
      "id": "d11869bd",
      "metadata": {
        "colab": {
          "base_uri": "https://localhost:8080/"
        },
        "id": "d11869bd",
        "outputId": "86a00772-4c6b-4a62-a031-88fab7b69787"
      },
      "outputs": [],
      "source": [
        "hd = np.loadtxt('../05_data/slides_data/california_housing_test.csv',\n",
        "                delimiter=',',\n",
        "                skiprows=1)\n",
        "hd.shape"
      ]
    },
    {
      "cell_type": "code",
      "execution_count": null,
      "id": "96435f13",
      "metadata": {
        "colab": {
          "base_uri": "https://localhost:8080/"
        },
        "id": "96435f13",
        "outputId": "24caf154-eeef-4264-aa70-e028180c5f69"
      },
      "outputs": [],
      "source": [
        "housing_data = np.genfromtxt('../05_data/slides_data/california_housing_test.csv',\n",
        "                             delimiter=',',\n",
        "                             #skip_header=1,  # let's use names instead\n",
        "                             names=True,\n",
        "                             missing_values=500001.0,\n",
        "                             usemask=True  # replace missing values\n",
        "                            )\n",
        "\n",
        "housing_data.filled(np.nan)"
      ]
    },
    {
      "cell_type": "markdown",
      "id": "acf39b55",
      "metadata": {
        "id": "acf39b55"
      },
      "source": [
        "If you look closely, the array we got back is not a matrix. Each row looks like a tuple with comma-separated values. If we check the `shape`, we see 3000 rows and what looks like no columns. The `dtype` attribute lists all our field names."
      ]
    },
    {
      "cell_type": "code",
      "execution_count": null,
      "id": "3c0b6b97",
      "metadata": {
        "colab": {
          "base_uri": "https://localhost:8080/"
        },
        "id": "3c0b6b97",
        "outputId": "799a1be7-0b13-4f9e-cbef-338d80776576"
      },
      "outputs": [],
      "source": [
        "housing_data.shape"
      ]
    },
    {
      "cell_type": "code",
      "execution_count": null,
      "id": "47f76c0d",
      "metadata": {
        "colab": {
          "base_uri": "https://localhost:8080/"
        },
        "id": "47f76c0d",
        "outputId": "8380b1c1-bdfb-4c37-f1b3-fc8c2cdd6667"
      },
      "outputs": [],
      "source": [
        "housing_data.dtype"
      ]
    },
    {
      "cell_type": "markdown",
      "id": "d2979b21",
      "metadata": {
        "id": "d2979b21"
      },
      "source": [
        "In this case, `genfromtxt` returned a _structured array_, a different type of array than the ones we have seen so far. We can refer to fields by putting the field name as a string in square brackets, similar to referencing a dictionary key. However, we will soon see a data type in another package, `pandas`, that is even better suited to working with columns in tabular data like this."
      ]
    },
    {
      "cell_type": "code",
      "execution_count": null,
      "id": "6e46f077",
      "metadata": {
        "colab": {
          "base_uri": "https://localhost:8080/"
        },
        "id": "6e46f077",
        "outputId": "d0ef0097-273c-4916-e7bd-d6e58aa14071"
      },
      "outputs": [],
      "source": [
        "np.median(housing_data['housing_median_age'])"
      ]
    },
    {
      "cell_type": "code",
      "execution_count": null,
      "id": "64ed4558",
      "metadata": {
        "colab": {
          "base_uri": "https://localhost:8080/"
        },
        "id": "64ed4558",
        "outputId": "319468cd-5d5a-4dc4-c9bc-0d4c3235f526"
      },
      "outputs": [],
      "source": [
        "housing_data['median_income'].mean()"
      ]
    },
    {
      "cell_type": "markdown",
      "id": "0d1c483c",
      "metadata": {
        "id": "0d1c483c"
      },
      "source": [
        "# References\n",
        "\n",
        "- NumPy. _Basic Numpy_. https://numpy.org/devdocs/user/quickstart.html\n",
        "- NumPy. _Numpy Routines_. https://numpy.org/doc/stable/reference/routines.html"
      ]
    }
  ],
  "metadata": {
    "celltoolbar": "Slideshow",
    "colab": {
      "provenance": []
    },
    "kernelspec": {
      "display_name": "Python 3 (ipykernel)",
      "language": "python",
      "name": "python3"
    },
    "language_info": {
      "codemirror_mode": {
        "name": "ipython",
        "version": 3
      },
      "file_extension": ".py",
      "mimetype": "text/x-python",
      "name": "python",
      "nbconvert_exporter": "python",
      "pygments_lexer": "ipython3",
      "version": "3.11.5"
    },
    "rise": {
      "scroll": true,
      "theme": "solarized",
      "transition": "none"
    }
  },
  "nbformat": 4,
  "nbformat_minor": 5
}
